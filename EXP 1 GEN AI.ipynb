{
 "cells": [
  {
   "cell_type": "code",
   "execution_count": 1,
   "id": "11c3beec",
   "metadata": {
    "height": 115
   },
   "outputs": [],
   "source": [
    "import os\n",
    "import openai\n",
    "\n",
    "from dotenv import load_dotenv, find_dotenv\n",
    "_ = load_dotenv(find_dotenv()) # read local .env file\n",
    "openai.api_key = os.environ['OPENAI_API_KEY']"
   ]
  },
  {
   "cell_type": "code",
   "execution_count": 2,
   "id": "2c5da73d",
   "metadata": {
    "height": 200
   },
   "outputs": [],
   "source": [
    "import json\n",
    "import math\n",
    "def volume_of_cylinder(radius, height, unit=\"meter\"):\n",
    "    volume = math.pi * (radius * radius) * height\n",
    "    cylinder_info = {\n",
    "        \"radius\": radius,\n",
    "        \"height\": height,\n",
    "        \"volume\": volume,\n",
    "        \"unit\": unit\n",
    "    }\n",
    "    return json.dumps(cylinder_info)"
   ]
  },
  {
   "cell_type": "code",
   "execution_count": 3,
   "id": "88303a38",
   "metadata": {
    "height": 438
   },
   "outputs": [],
   "source": [
    "functions = [\n",
    "    {\n",
    "        \"name\": \"volume_of_cylinder\",\n",
    "        \"description\": \"Calculates the volume of a cylinder.\",\n",
    "        \"parameters\": {\n",
    "            \"type\": \"object\",\n",
    "            \"properties\": {\n",
    "                \"radius\": {\n",
    "                    \"type\": \"integer\",\n",
    "                    \"description\": \"Radius of the cylinder.\",\n",
    "                },\n",
    "                \"height\": {\n",
    "                    \"type\": \"integer\",\n",
    "                    \"description\": \"Height of the cylinder.\",\n",
    "                },\n",
    "                \"unit\": {\n",
    "                    \"type\": \"string\",\n",
    "                    \"enum\": [\"meter\", \"centimeter\"],\n",
    "                    \"description\": \"Unit of measurement (meter or centimeter).\",\n",
    "                },\n",
    "            },\n",
    "            \"required\": [\"radius\", \"height\"],\n",
    "        },\n",
    "    }\n",
    "]"
   ]
  },
  {
   "cell_type": "code",
   "execution_count": 4,
   "id": "d33ae8d5",
   "metadata": {
    "height": 166
   },
   "outputs": [
    {
     "name": "stdout",
     "output_type": "stream",
     "text": [
      "Enter the radius of the cylinder (in meters): 1\n",
      "Enter the height of the cylinder (in meters): 2\n"
     ]
    }
   ],
   "source": [
    "radius = float(input(\"Enter the radius of the cylinder (in meters): \"))\n",
    "height = float(input(\"Enter the height of the cylinder (in meters): \"))\n",
    "\n",
    "messages = [\n",
    "    {\n",
    "        \"role\": \"user\",\n",
    "        \"content\": f\"Calculate the volume of a cylinder with radius {radius} meters and height {height} meters.\"\n",
    "    }\n",
    "]"
   ]
  },
  {
   "cell_type": "code",
   "execution_count": 6,
   "id": "c72b0a07",
   "metadata": {
    "height": 132
   },
   "outputs": [],
   "source": [
    "import openai\n",
    "response = openai.ChatCompletion.create(\n",
    "    model=\"gpt-3.5-turbo\",\n",
    "    messages=messages,\n",
    "    functions=functions,  # Use 'functions' for function calling\n",
    "    function_call={\"name\": \"volume_of_cylinder\"}  # Allows automatic function calling\n",
    ")"
   ]
  },
  {
   "cell_type": "code",
   "execution_count": 7,
   "id": "59006bdf",
   "metadata": {
    "height": 149
   },
   "outputs": [
    {
     "name": "stdout",
     "output_type": "stream",
     "text": [
      "{\n",
      "  \"choices\": [\n",
      "    {\n",
      "      \"finish_reason\": \"stop\",\n",
      "      \"index\": 0,\n",
      "      \"logprobs\": null,\n",
      "      \"message\": {\n",
      "        \"annotations\": [],\n",
      "        \"content\": null,\n",
      "        \"function_call\": {\n",
      "          \"arguments\": \"{\\\"radius\\\":1,\\\"height\\\":2,\\\"unit\\\":\\\"meter\\\"}\",\n",
      "          \"name\": \"volume_of_cylinder\"\n",
      "        },\n",
      "        \"refusal\": null,\n",
      "        \"role\": \"assistant\"\n",
      "      }\n",
      "    }\n",
      "  ],\n",
      "  \"created\": 1742624068,\n",
      "  \"id\": \"chatcmpl-BDmPk1jS3vXENlXkTGpDccPbrE3X0\",\n",
      "  \"model\": \"gpt-3.5-turbo-0125\",\n",
      "  \"object\": \"chat.completion\",\n",
      "  \"service_tier\": \"default\",\n",
      "  \"system_fingerprint\": null,\n",
      "  \"usage\": {\n",
      "    \"completion_tokens\": 14,\n",
      "    \"completion_tokens_details\": {\n",
      "      \"accepted_prediction_tokens\": 0,\n",
      "      \"audio_tokens\": 0,\n",
      "      \"reasoning_tokens\": 0,\n",
      "      \"rejected_prediction_tokens\": 0\n",
      "    },\n",
      "    \"prompt_tokens\": 116,\n",
      "    \"prompt_tokens_details\": {\n",
      "      \"audio_tokens\": 0,\n",
      "      \"cached_tokens\": 0\n",
      "    },\n",
      "    \"total_tokens\": 130\n",
      "  }\n",
      "}\n",
      "Function Call: {\n",
      "  \"arguments\": \"{\\\"radius\\\":1,\\\"height\\\":2,\\\"unit\\\":\\\"meter\\\"}\",\n",
      "  \"name\": \"volume_of_cylinder\"\n",
      "}\n"
     ]
    }
   ],
   "source": [
    "print(response)\n",
    "response_message = response[\"choices\"][0][\"message\"]\n",
    "\n",
    "if \"function_call\" in response_message:\n",
    "    function_call = response_message[\"function_call\"]\n",
    "    print(\"Function Call:\", function_call)\n",
    "else:\n",
    "    print(\"No function call. Assistant responded with text:\", response_message[\"content\"])"
   ]
  },
  {
   "cell_type": "code",
   "execution_count": 8,
   "id": "c6cd80b0",
   "metadata": {
    "height": 30
   },
   "outputs": [
    {
     "name": "stdout",
     "output_type": "stream",
     "text": [
      "Cylinder Volume Data: {\"radius\": 1, \"height\": 2, \"volume\": 6.283185307179586, \"unit\": \"meter\"}\n"
     ]
    }
   ],
   "source": [
    "response_message\n",
    "response_message[\"content\"]\n",
    "response_message[\"function_call\"]\n",
    "args = json.loads(response[\"choices\"][0][\"message\"].get(\"function_call\", {}).get(\"arguments\", \"{}\"))\n",
    "\n",
    "if not args:\n",
    "    radius = float(input(\"Enter radius: \"))\n",
    "    height = float(input(\"Enter height: \"))\n",
    "    unit = input(\"Enter unit (default is meter): \") or \"meter\"\n",
    "    args = {\"radius\": radius, \"height\": height, \"unit\": unit}\n",
    "\n",
    "observation = volume_of_cylinder(**args)\n",
    "\n",
    "print(\"Cylinder Volume Data:\", observation)"
   ]
  },
  {
   "cell_type": "code",
   "execution_count": null,
   "id": "96e3bb87",
   "metadata": {
    "height": 30
   },
   "outputs": [],
   "source": []
  }
 ],
 "metadata": {
  "kernelspec": {
   "display_name": "Python 3 (ipykernel)",
   "language": "python",
   "name": "python3"
  },
  "language_info": {
   "codemirror_mode": {
    "name": "ipython",
    "version": 3
   },
   "file_extension": ".py",
   "mimetype": "text/x-python",
   "name": "python",
   "nbconvert_exporter": "python",
   "pygments_lexer": "ipython3",
   "version": "3.9.19"
  }
 },
 "nbformat": 4,
 "nbformat_minor": 5
}
